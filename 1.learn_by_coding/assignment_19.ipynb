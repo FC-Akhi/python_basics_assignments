{
 "cells": [
  {
   "cell_type": "markdown",
   "id": "cd1264ca",
   "metadata": {},
   "source": [
    "### 1. Make a class called Thing with no contents and print it. Then, create an object called example from this class and also print it. Are the printed values the same or different?"
   ]
  },
  {
   "cell_type": "code",
   "execution_count": 3,
   "id": "452e5979",
   "metadata": {},
   "outputs": [],
   "source": [
    "# class defined\n",
    "class Thing:\n",
    "    pass"
   ]
  },
  {
   "cell_type": "code",
   "execution_count": 4,
   "id": "d420ae34",
   "metadata": {},
   "outputs": [
    {
     "name": "stdout",
     "output_type": "stream",
     "text": [
      "<class '__main__.Thing'>\n"
     ]
    }
   ],
   "source": [
    "# print class\n",
    "print(Thing)"
   ]
  },
  {
   "cell_type": "code",
   "execution_count": 5,
   "id": "8a3ac74e",
   "metadata": {},
   "outputs": [],
   "source": [
    "# create an object\n",
    "example = Thing()"
   ]
  },
  {
   "cell_type": "code",
   "execution_count": 6,
   "id": "8d0f5e74",
   "metadata": {},
   "outputs": [
    {
     "name": "stdout",
     "output_type": "stream",
     "text": [
      "<__main__.Thing object at 0x7fdc18487e20>\n"
     ]
    }
   ],
   "source": [
    "# print example\n",
    "print(example)"
   ]
  },
  {
   "cell_type": "markdown",
   "id": "b7ad0299",
   "metadata": {},
   "source": [
    "#### Outcome: Printed values are different"
   ]
  },
  {
   "cell_type": "markdown",
   "id": "917c8941",
   "metadata": {},
   "source": [
    "### 2. Create a new class called Thing2 and add the value 'abc' to the letters class attribute. Letters should be printed."
   ]
  },
  {
   "cell_type": "code",
   "execution_count": 7,
   "id": "2dcead15",
   "metadata": {},
   "outputs": [],
   "source": [
    "# class defined\n",
    "class Thing2:\n",
    "    letters = \"abc\""
   ]
  },
  {
   "cell_type": "code",
   "execution_count": 9,
   "id": "0aed24a6",
   "metadata": {},
   "outputs": [
    {
     "name": "stdout",
     "output_type": "stream",
     "text": [
      "abc\n"
     ]
    }
   ],
   "source": [
    "# print letters attribute\n",
    "print(Thing2.letters)"
   ]
  },
  {
   "cell_type": "markdown",
   "id": "ccff2164",
   "metadata": {},
   "source": [
    "### 3. Make yet another class called, of course, Thing3. This time, assign the value 'xyz' to an instance (object) attribute called letters. Print letters. Do you need to make an object from the class to do this?"
   ]
  },
  {
   "cell_type": "code",
   "execution_count": 2,
   "id": "ee44e46a",
   "metadata": {},
   "outputs": [],
   "source": [
    "# class defined\n",
    "class Thing3:\n",
    "    \n",
    "    def __init__(self, letters):\n",
    "        self.letters = letters"
   ]
  },
  {
   "cell_type": "code",
   "execution_count": 5,
   "id": "d50c6e03",
   "metadata": {},
   "outputs": [],
   "source": [
    "example = Thing3(\"xyz\")"
   ]
  },
  {
   "cell_type": "code",
   "execution_count": 6,
   "id": "0cf01fd3",
   "metadata": {},
   "outputs": [
    {
     "name": "stdout",
     "output_type": "stream",
     "text": [
      "xyz\n"
     ]
    }
   ],
   "source": [
    "print(example.letters)"
   ]
  },
  {
   "cell_type": "markdown",
   "id": "60e3a3e7",
   "metadata": {},
   "source": [
    "#### Outcome: Yes, We need to make an object to assign value to instance(object) attribute"
   ]
  },
  {
   "cell_type": "markdown",
   "id": "da43419a",
   "metadata": {},
   "source": [
    "### 4. Create an Element class with the instance attributes name, symbol, and number. Create a class object with the values 'Hydrogen,' 'H,' and 1."
   ]
  },
  {
   "cell_type": "code",
   "execution_count": 7,
   "id": "19cd79a8",
   "metadata": {},
   "outputs": [],
   "source": [
    "# class defined\n",
    "class Element:\n",
    "    \n",
    "    def __init__(self, name, symbol, number):\n",
    "        self.name = name\n",
    "        self.symbol = symbol\n",
    "        self.number = number"
   ]
  },
  {
   "cell_type": "code",
   "execution_count": 8,
   "id": "aa844677",
   "metadata": {},
   "outputs": [],
   "source": [
    "obj = Element(\"Hydrogen\", \"H\", 1)"
   ]
  },
  {
   "cell_type": "code",
   "execution_count": 9,
   "id": "5405c906",
   "metadata": {},
   "outputs": [
    {
     "name": "stdout",
     "output_type": "stream",
     "text": [
      "Hydrogen H 1\n"
     ]
    }
   ],
   "source": [
    "print(obj.name, obj.symbol, obj.number)"
   ]
  },
  {
   "cell_type": "markdown",
   "id": "40768a01",
   "metadata": {},
   "source": [
    "### 5. Make a dictionary with these keys and values: 'name': 'Hydrogen', 'symbol': 'H', 'number': 1. Then, create an object called hydrogen from class Element using this dictionary."
   ]
  },
  {
   "cell_type": "code",
   "execution_count": 11,
   "id": "78d55ac3",
   "metadata": {},
   "outputs": [],
   "source": [
    "# dictionary defined\n",
    "dict = {\"name\": \"Hydrogen\",\n",
    "       \"symbol\": \"H\",\n",
    "       \"number\": 1}"
   ]
  },
  {
   "cell_type": "code",
   "execution_count": 13,
   "id": "375d6ac7",
   "metadata": {},
   "outputs": [],
   "source": [
    "# create an object\n",
    "hydrogen = Element(dict[\"name\"], dict[\"symbol\"], dict[\"number\"])"
   ]
  },
  {
   "cell_type": "code",
   "execution_count": 15,
   "id": "194362f4",
   "metadata": {},
   "outputs": [
    {
     "name": "stdout",
     "output_type": "stream",
     "text": [
      "Hydrogen H 1\n"
     ]
    }
   ],
   "source": [
    "print(hydrogen.name, hydrogen.symbol, hydrogen.number)"
   ]
  },
  {
   "cell_type": "markdown",
   "id": "4adcb578",
   "metadata": {},
   "source": [
    "### 6. For the Element class, define a method called dump() that prints the values of the object’s attributes (name, symbol, and number). Create the hydrogen object from this new definition and use dump() to print its attributes."
   ]
  },
  {
   "cell_type": "code",
   "execution_count": 27,
   "id": "b6fa84af",
   "metadata": {},
   "outputs": [],
   "source": [
    "# class defined\n",
    "class Element:\n",
    "    \n",
    "    def __init__(self, name, symbol, number):\n",
    "        self.name = name\n",
    "        self.symbol = symbol\n",
    "        self.number = number\n",
    "        \n",
    "        \n",
    "    def dump(self):\n",
    "        print(f\"Name: {self.name}\")\n",
    "        print(f\"Symbol: {self.symbol}\")\n",
    "        print(f\"Number: {self.number}\")"
   ]
  },
  {
   "cell_type": "code",
   "execution_count": 28,
   "id": "844964bf",
   "metadata": {},
   "outputs": [],
   "source": [
    "# create an object\n",
    "hydrogen = Element(\"Hydrogen\", \"H\", 1)"
   ]
  },
  {
   "cell_type": "code",
   "execution_count": 29,
   "id": "64b76b21",
   "metadata": {},
   "outputs": [
    {
     "name": "stdout",
     "output_type": "stream",
     "text": [
      "Name: Hydrogen\n",
      "Symbol: H\n",
      "Number: 1\n"
     ]
    }
   ],
   "source": [
    "# use dump()\n",
    "hydrogen.dump()"
   ]
  },
  {
   "cell_type": "markdown",
   "id": "2de73817",
   "metadata": {},
   "source": [
    "### 7. Call print(hydrogen). In the definition of Element, change the name of method dump to __str__, create a new hydrogen object, and call print(hydrogen) again."
   ]
  },
  {
   "cell_type": "code",
   "execution_count": 22,
   "id": "a625b4b3",
   "metadata": {},
   "outputs": [
    {
     "name": "stdout",
     "output_type": "stream",
     "text": [
      "<__main__.Element object at 0x7fa7d378ecd0>\n"
     ]
    }
   ],
   "source": [
    "print(hydrogen)"
   ]
  },
  {
   "cell_type": "code",
   "execution_count": 23,
   "id": "a420cdd4",
   "metadata": {},
   "outputs": [],
   "source": [
    "# class defined\n",
    "class Element:\n",
    "    \n",
    "    def __init__(self, name, symbol, number):\n",
    "        self.name = name\n",
    "        self.symbol = symbol\n",
    "        self.number = number\n",
    "        \n",
    "        \n",
    "    def str(self):\n",
    "        print(f\"Name: {self.name}\")\n",
    "        print(f\"Symbol: {self.symbol}\")\n",
    "        print(f\"Number: {self.number}\")"
   ]
  },
  {
   "cell_type": "code",
   "execution_count": 24,
   "id": "9e483791",
   "metadata": {},
   "outputs": [],
   "source": [
    "# create an object\n",
    "hydrogen = Element(\"Hydrogen\", \"H\", 1)"
   ]
  },
  {
   "cell_type": "code",
   "execution_count": 25,
   "id": "a7570084",
   "metadata": {},
   "outputs": [
    {
     "name": "stdout",
     "output_type": "stream",
     "text": [
      "<__main__.Element object at 0x7fa7d37a4bb0>\n"
     ]
    }
   ],
   "source": [
    "print(hydrogen)"
   ]
  },
  {
   "cell_type": "markdown",
   "id": "9119b0ac",
   "metadata": {},
   "source": [
    "### 8. Modify Element to make the attributes name, symbol, and number private. Define a getter property for each to return its value."
   ]
  },
  {
   "cell_type": "code",
   "execution_count": 7,
   "id": "0ce2b147",
   "metadata": {},
   "outputs": [],
   "source": [
    "# class defined\n",
    "class Element:\n",
    "    \n",
    "    def __init__(self, name, symbol, number):\n",
    "        self.__name = name\n",
    "        self.__symbol = symbol\n",
    "        self.__number = number\n",
    "    \n",
    "\n",
    "        \n",
    "        \n",
    "    @property\n",
    "    def get_name(self):\n",
    "        print(f\"Name: {self.__name}\")\n",
    "        \n",
    "        \n",
    "    @property\n",
    "    def get_symbol(self):\n",
    "        print(f\"Symbol: {self.__symbol}\")\n",
    "        \n",
    "        \n",
    "    @property\n",
    "    def get_number(self):\n",
    "        print(f\"Number: {self.__number}\")\n",
    "        \n",
    "        \n",
    "        "
   ]
  },
  {
   "cell_type": "code",
   "execution_count": 8,
   "id": "f6f10f69",
   "metadata": {},
   "outputs": [],
   "source": [
    "# create an object\n",
    "hydrogen = Element(\"Hydrogen\", \"H\", 1)"
   ]
  },
  {
   "cell_type": "code",
   "execution_count": 10,
   "id": "52cd25a2",
   "metadata": {},
   "outputs": [
    {
     "name": "stdout",
     "output_type": "stream",
     "text": [
      "Name: Hydrogen\n",
      "Symbol: H\n",
      "Number: 1\n"
     ]
    }
   ],
   "source": [
    "hydrogen.get_name\n",
    "hydrogen.get_symbol\n",
    "hydrogen.get_number"
   ]
  },
  {
   "cell_type": "markdown",
   "id": "15979d4f",
   "metadata": {},
   "source": [
    "### 9. Define three classes: Bear, Rabbit, and Octothorpe. For each, define only one method: eats(). This should return 'berries' (Bear), 'clover' (Rabbit), or 'campers' (Octothorpe). Create one object from each and print what it eats."
   ]
  },
  {
   "cell_type": "code",
   "execution_count": 33,
   "id": "a91534c0",
   "metadata": {},
   "outputs": [],
   "source": [
    "# classes defined\n",
    "class Bear:\n",
    "    \n",
    "    def eats(self):\n",
    "        return \"berries\"\n",
    "    \n",
    "class Rabbit:\n",
    "    \n",
    "    def eats(self):\n",
    "        return \"clover\"\n",
    "    \n",
    "class Octothorpe:\n",
    "    \n",
    "    def eats(self):\n",
    "        return \"campers\""
   ]
  },
  {
   "cell_type": "code",
   "execution_count": 35,
   "id": "38c62dee",
   "metadata": {},
   "outputs": [],
   "source": [
    "# create objects\n",
    "animal1 = Bear()\n",
    "animal2 = Rabbit()\n",
    "animal3 = Octothorpe()"
   ]
  },
  {
   "cell_type": "code",
   "execution_count": 36,
   "id": "5d46fc4c",
   "metadata": {},
   "outputs": [
    {
     "data": {
      "text/plain": [
       "'berries'"
      ]
     },
     "execution_count": 36,
     "metadata": {},
     "output_type": "execute_result"
    }
   ],
   "source": [
    "animal1.eats()"
   ]
  },
  {
   "cell_type": "code",
   "execution_count": 37,
   "id": "f45babca",
   "metadata": {},
   "outputs": [
    {
     "data": {
      "text/plain": [
       "'clover'"
      ]
     },
     "execution_count": 37,
     "metadata": {},
     "output_type": "execute_result"
    }
   ],
   "source": [
    "animal2.eats()"
   ]
  },
  {
   "cell_type": "code",
   "execution_count": 38,
   "id": "ae53e319",
   "metadata": {},
   "outputs": [
    {
     "data": {
      "text/plain": [
       "'campers'"
      ]
     },
     "execution_count": 38,
     "metadata": {},
     "output_type": "execute_result"
    }
   ],
   "source": [
    "animal3.eats()"
   ]
  },
  {
   "cell_type": "markdown",
   "id": "5a2b9996",
   "metadata": {},
   "source": [
    "### 10. Define these classes: Laser, Claw, and SmartPhone. Each has only one method: does(). This returns 'disintegrate' (Laser), 'crush' (Claw), or 'ring' (SmartPhone). Then, define the class Robot that has one instance (object) of each of these. Define a does() method for the Robot that prints what its component objects do."
   ]
  },
  {
   "cell_type": "code",
   "execution_count": 39,
   "id": "27a436ea",
   "metadata": {},
   "outputs": [],
   "source": [
    "# classes defined\n",
    "class Laser:\n",
    "    \n",
    "    def does(self):\n",
    "        return \"disintegrate\"\n",
    "    \n",
    "class Claw:\n",
    "    \n",
    "    def does(self):\n",
    "        return \"crush\"\n",
    "    \n",
    "class SmartPhone:\n",
    "    \n",
    "    def does(self):\n",
    "        return \"ring\""
   ]
  },
  {
   "cell_type": "code",
   "execution_count": 40,
   "id": "9e0f7711",
   "metadata": {},
   "outputs": [],
   "source": [
    "class Robot:\n",
    "    \n",
    "    def __init__(self):\n",
    "        self.laser = Laser()\n",
    "        self.claw = Claw()\n",
    "        self.smartphone = SmartPhone()\n",
    "        \n",
    "    def does(self):\n",
    "        print(self.laser.does())\n",
    "        print(self.claw.does())\n",
    "        print(self.smartphone.does())"
   ]
  },
  {
   "cell_type": "code",
   "execution_count": 41,
   "id": "c84507e5",
   "metadata": {},
   "outputs": [
    {
     "data": {
      "text/plain": [
       "<__main__.Robot at 0x7fa7d37b2dc0>"
      ]
     },
     "execution_count": 41,
     "metadata": {},
     "output_type": "execute_result"
    }
   ],
   "source": [
    "Robot()"
   ]
  },
  {
   "cell_type": "code",
   "execution_count": 43,
   "id": "057a44d3",
   "metadata": {},
   "outputs": [],
   "source": [
    "obj = Robot()"
   ]
  },
  {
   "cell_type": "code",
   "execution_count": 44,
   "id": "d76986e3",
   "metadata": {},
   "outputs": [
    {
     "name": "stdout",
     "output_type": "stream",
     "text": [
      "disintegrate\n",
      "crush\n",
      "ring\n"
     ]
    }
   ],
   "source": [
    "obj.does()"
   ]
  },
  {
   "cell_type": "code",
   "execution_count": null,
   "id": "09fdfebb",
   "metadata": {},
   "outputs": [],
   "source": []
  }
 ],
 "metadata": {
  "kernelspec": {
   "display_name": "Python 3 (ipykernel)",
   "language": "python",
   "name": "python3"
  },
  "language_info": {
   "codemirror_mode": {
    "name": "ipython",
    "version": 3
   },
   "file_extension": ".py",
   "mimetype": "text/x-python",
   "name": "python",
   "nbconvert_exporter": "python",
   "pygments_lexer": "ipython3",
   "version": "3.8.10"
  }
 },
 "nbformat": 4,
 "nbformat_minor": 5
}
